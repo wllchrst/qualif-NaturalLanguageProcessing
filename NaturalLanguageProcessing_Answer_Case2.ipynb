{
  "nbformat": 4,
  "nbformat_minor": 0,
  "metadata": {
    "colab": {
      "provenance": [],
      "gpuType": "T4"
    },
    "kernelspec": {
      "name": "python3",
      "display_name": "Python 3"
    },
    "language_info": {
      "name": "python"
    },
    "accelerator": "GPU"
  },
  "cells": [
    {
      "cell_type": "code",
      "execution_count": 19,
      "metadata": {
        "id": "JTBZXTP6lJj0"
      },
      "outputs": [],
      "source": [
        "## IMPORTS\n",
        "import pandas as pd\n",
        "from nltk.tokenize import word_tokenize\n",
        "from sklearn.feature_extraction.text import CountVectorizer\n",
        "from sklearn.metrics.pairwise import cosine_similarity\n",
        "from gensim.models import Word2Vec\n",
        "import spacy\n",
        "from nltk.tag import pos_tag\n",
        "from nltk import CFG\n",
        "from nltk.parse import ChartParser\n",
        "import pandas as pd"
      ]
    },
    {
      "cell_type": "code",
      "source": [
        "import nltk\n",
        "nltk.download('punkt')\n",
        "nltk.download('averaged_perceptron_tagger')"
      ],
      "metadata": {
        "colab": {
          "base_uri": "https://localhost:8080/",
          "height": 0
        },
        "id": "25-iDFPrgjpJ",
        "outputId": "fa0a6ccb-0e26-4d23-fad9-a1659790b58c"
      },
      "execution_count": 20,
      "outputs": [
        {
          "output_type": "stream",
          "name": "stderr",
          "text": [
            "[nltk_data] Downloading package punkt to /root/nltk_data...\n",
            "[nltk_data]   Package punkt is already up-to-date!\n",
            "[nltk_data] Downloading package averaged_perceptron_tagger to\n",
            "[nltk_data]     /root/nltk_data...\n",
            "[nltk_data]   Package averaged_perceptron_tagger is already up-to-\n",
            "[nltk_data]       date!\n"
          ]
        },
        {
          "output_type": "execute_result",
          "data": {
            "text/plain": [
              "True"
            ]
          },
          "metadata": {},
          "execution_count": 20
        }
      ]
    },
    {
      "cell_type": "code",
      "source": [
        "dataframe = pd.read_csv('./clean_d_tweets.csv')"
      ],
      "metadata": {
        "id": "QQSUwF9l_AiM"
      },
      "execution_count": 21,
      "outputs": []
    },
    {
      "cell_type": "code",
      "source": [
        "tweets = dataframe['tweet']"
      ],
      "metadata": {
        "id": "_DZPLiBp_OqM"
      },
      "execution_count": 22,
      "outputs": []
    },
    {
      "cell_type": "markdown",
      "source": [
        "# **Language Modelling Using N Grams Model**"
      ],
      "metadata": {
        "id": "CaUbOcPPeZ-V"
      }
    },
    {
      "cell_type": "code",
      "source": [
        "## N Grams Language Model\n",
        "class NGramsLanguageModel :\n",
        "    def __init__ (self, n) :\n",
        "        self.n = n\n",
        "        self.vectorizer = CountVectorizer(analyzer='word', ngram_range=(n, n))\n",
        "        self.corpus = self.get_corpus()\n",
        "        self.matrix = self.fit_transform(self.corpus)\n",
        "\n",
        "    def get_corpus(self) :\n",
        "        tweet_list = [tweet if isinstance(tweet, str) else '' for tweet in tweets]\n",
        "        return tweet_list\n",
        "\n",
        "    def calculate_cosine_similarity(self, query_v) :\n",
        "        similarities = cosine_similarity(self.matrix, query_v)\n",
        "        return similarities\n",
        "\n",
        "    def fit_transform(self, corpus) :\n",
        "        return self.vectorizer.fit_transform(corpus)\n",
        "\n",
        "    def transform(self, corpus) :\n",
        "        return self.vectorizer.transform(corpus)\n",
        "\n",
        "    def get_most_similar_sentence(self, sentence) :\n",
        "        sentence_to_print = ''\n",
        "        max = 0\n",
        "        similarity = self.get_similarity(sentence)\n",
        "        for tweet, s in zip(self.corpus, similarity) :\n",
        "            if(max < s[0]) :\n",
        "                max = s[0]\n",
        "                sentence_to_print = tweet\n",
        "        print(f'Most similar sentence : {sentence_to_print}')\n",
        "        print(f'Similarity : {max * 100}%')\n",
        "\n",
        "    def get_similarity(self, sentence) :\n",
        "        query = self.transform([sentence])\n",
        "        similarity = self.calculate_cosine_similarity(query)\n",
        "        return similarity"
      ],
      "metadata": {
        "id": "sVAUQl_wl2Is"
      },
      "execution_count": 23,
      "outputs": []
    },
    {
      "cell_type": "markdown",
      "source": [
        "# **Word Embedding using Word2Vec**"
      ],
      "metadata": {
        "id": "S4hIulyGelAV"
      }
    },
    {
      "cell_type": "code",
      "source": [
        "# Word Embedding\n",
        "class WordToVec :\n",
        "    def __init__ (self) :\n",
        "        self.sentences = self.get_all_sentences_from_tweet()\n",
        "        self.model = None\n",
        "        self.loaded_model = None\n",
        "        self.file_name = \"word2vec_model.bin\"\n",
        "        self.make_model()\n",
        "\n",
        "    def get_all_sentences_from_tweet(self) :\n",
        "        sents = []\n",
        "        for tweet in tweets:\n",
        "            try :\n",
        "                tokens = word_tokenize(tweet.lower())\n",
        "                sents.append(tokens)\n",
        "            except AttributeError as e :\n",
        "                pass\n",
        "        return sents\n",
        "\n",
        "\n",
        "    def make_model(self) :\n",
        "        self.model = Word2Vec(sentences=self.sentences, vector_size=100, window=5, min_count=1, workers=4)\n",
        "        self.model.save(self.file_name)\n",
        "        self.loaded_model = Word2Vec.load(self.file_name)\n",
        "\n",
        "    def get_n_most_common_words_compare_to_word(self, word, n=10) :\n",
        "        most_similar_with_word = self.loaded_model.wv.most_similar(word, topn=n)\n",
        "        for word, similarity in most_similar_with_word :\n",
        "            print(f\"Word       : {word}\")\n",
        "            print(f\"Similarity : {similarity * 100}%\")"
      ],
      "metadata": {
        "id": "B-LDug7AmKLA"
      },
      "execution_count": 24,
      "outputs": []
    },
    {
      "cell_type": "markdown",
      "source": [
        "# **Name Entity Recognition Using Spacy**"
      ],
      "metadata": {
        "id": "SS0u1_Nle9OK"
      }
    },
    {
      "cell_type": "code",
      "source": [
        "# Class For Name Entity Recognition\n",
        "\n",
        "class NameEntityRecognition() :\n",
        "    def __init__(self, sentence) :\n",
        "        self.process = spacy.load(\"en_core_web_sm\")\n",
        "        self.document = self.process(sentence)\n",
        "        self.get_sentence_entities()\n",
        "\n",
        "    def get_sentence_dependencies(self) :\n",
        "        for token in self.document:\n",
        "            print('==========================================')\n",
        "            print(f'Text              : {token.text}')\n",
        "            print(f'Head              : {token.head}')\n",
        "            print(f'Dependecy To Head : {token.dep_}')\n",
        "            print(f'Position.         : {token.pos_}')\n",
        "\n",
        "    def get_sentence_entities(self) :\n",
        "        self.entities = {\n",
        "            \"Person\" : [ent.text for ent in self.document.ents if ent.label_ == 'PERSON'],\n",
        "            \"Location\" : [ent.text for ent in self.document.ents if ent.label_ == 'GPE'],\n",
        "            \"Event\" : [ent.text for ent in self.document.ents if ent.label_ == 'EVENT'],\n",
        "            \"Date\" : [ent.text for ent in self.document.ents if ent.label_ == 'DATE'],\n",
        "            \"Time\" : [ent.text for ent in self.document.ents if ent.label_ == 'TIME'],\n",
        "            \"Organization\" : [ent.text for ent in self.document.ents if ent.label_ == 'ORG'],\n",
        "            \"Quantity\" : [ent.text for ent in self.document.ents if ent.label_ == 'QUANTITY'],\n",
        "            \"Money\" : [ent.text for ent in self.document.ents if ent.label_ == 'MONEY'],\n",
        "        }\n",
        "\n",
        "    def print_sentence_entities(self) :\n",
        "        for entity, texts in self.entities.items() :\n",
        "            print(f'Text for Entity -> {entity}')\n",
        "            for text in texts :\n",
        "                print(\"\\t- \" + text)\n",
        "\n",
        "\n",
        "\n"
      ],
      "metadata": {
        "id": "0pOuXJnPe9oC"
      },
      "execution_count": 25,
      "outputs": []
    },
    {
      "cell_type": "markdown",
      "source": [
        "# **Dependency Parsing Using Spacy**"
      ],
      "metadata": {
        "id": "OqhAN342esaj"
      }
    },
    {
      "cell_type": "code",
      "source": [
        "# Class For Dependency Parsing\n",
        "\n",
        "class DependencyParsing:\n",
        "    def __init__ (self, sentence) :\n",
        "        self.sentence = sentence\n",
        "        self.processor = spacy.load(\"en_core_web_sm\")\n",
        "        self.document = self.processor(self.sentence)\n",
        "\n",
        "    def get_sentence_dependencies(self) :\n",
        "        for token in self.document:\n",
        "            print('==========================================')\n",
        "            print(f'Text              : {token.text}')\n",
        "            print(f'Head              : {token.head}')\n",
        "            print(f'Dependecy To Head : {token.dep_}')\n",
        "            print(f'Position.         : {token.pos_}')"
      ],
      "metadata": {
        "id": "ghHVI2lYs6WF"
      },
      "execution_count": 26,
      "outputs": []
    },
    {
      "cell_type": "markdown",
      "source": [
        "# **Grammar Parsing**"
      ],
      "metadata": {
        "id": "TMMUx8gklo8P"
      }
    },
    {
      "cell_type": "code",
      "source": [
        "class GrammarParsing :\n",
        "    def __init__ (self) :\n",
        "       self.example_sentence = 'The Doctor killed his mother yesterday'\n",
        "       self.grammar = CFG.fromstring('''\n",
        "            S -> NP VP\n",
        "            NP -> Det N\n",
        "            VP -> V NP T | V N P NP\n",
        "            N -> 'Doctor' | 'mother'\n",
        "            Det -> 'The' | 'the' | 'his'\n",
        "            V -> 'killed'\n",
        "            PP -> P N\n",
        "            P -> 'with' | 'into'\n",
        "            T -> 'yesterday' | 'today'\n",
        "        ''')\n",
        "\n",
        "    def grammar_parsing(self) :\n",
        "        words = self.example_sentence.split()\n",
        "        parser = ChartParser(self.grammar)\n",
        "\n",
        "        try :\n",
        "            parses = list(parser.parse(words))\n",
        "            if parses :\n",
        "                for tree in parser.parse(self.example_sentence.split()):\n",
        "                    print(tree, \"\\n\")\n",
        "                    tree.pretty_print()\n",
        "            else :\n",
        "                print(\"no parses found\")\n",
        "        except nltk.parse.api.ParseError as e :\n",
        "            print(\"Error during parsing : \", e)"
      ],
      "metadata": {
        "id": "XJ0R0d3AlrU2"
      },
      "execution_count": 33,
      "outputs": []
    },
    {
      "cell_type": "code",
      "source": [
        "\n",
        "while(True) :\n",
        "    ngram = NGramsLanguageModel(2)\n",
        "    wtv = WordToVec()\n",
        "    gp = GrammarParsing()\n",
        "    print(\"\")\n",
        "    print(\"NOTES -> language model for n gram and word 2 vec is about depressions tweet in twitter\")\n",
        "    print(\"1. n gram model\")\n",
        "    print(\"2. word 2 vec\")\n",
        "    print(\"3. ner\")\n",
        "    print(\"4. dependency parsing\")\n",
        "    print(\"5. grammar parsing\")\n",
        "    choice = input()\n",
        "\n",
        "\n",
        "    if choice == '1' :\n",
        "        sentence = input()\n",
        "        ngram.get_most_similar_sentence(sentence)\n",
        "    elif choice == '2' :\n",
        "        sentence = input()\n",
        "        wtv.get_n_most_common_words_compare_to_word(sentence)\n",
        "    elif choice == '3' :\n",
        "        sentence = input()\n",
        "        ner = NameEntityRecognition(sentence)\n",
        "        ner.print_sentence_entities()\n",
        "    elif choice == '4' :\n",
        "        sentence = input()\n",
        "        dp = DependencyParsing(sentence)\n",
        "        dp.get_sentence_dependencies()\n",
        "    elif choice == '5' :\n",
        "        gp.grammar_parsing()\n",
        "    else :\n",
        "        break"
      ],
      "metadata": {
        "colab": {
          "base_uri": "https://localhost:8080/",
          "height": 1000
        },
        "id": "Xb5LFOLWSo4A",
        "outputId": "c35b1c8c-e5b6-491f-9d17-6644ef35c09b"
      },
      "execution_count": 45,
      "outputs": [
        {
          "output_type": "stream",
          "name": "stdout",
          "text": [
            "\n",
            "NOTES -> language model for n gram and word 2 vec is about depressions tweet in twitter\n",
            "1. n gram model\n",
            "2. word 2 vec\n",
            "3. ner\n",
            "4. dependency parsing\n",
            "5. grammar parsing\n",
            "3\n",
            "I live in Indonesia where i usually kill someone please Elon Musk SpaceX Apple\n",
            "Text for Entity -> Person\n",
            "\t- Elon Musk\n",
            "Text for Entity -> Location\n",
            "\t- Indonesia\n",
            "Text for Entity -> Event\n",
            "Text for Entity -> Date\n",
            "Text for Entity -> Time\n",
            "Text for Entity -> Organization\n",
            "\t- Apple\n",
            "Text for Entity -> Quantity\n",
            "Text for Entity -> Money\n",
            "\n",
            "NOTES -> language model for n gram and word 2 vec is about depressions tweet in twitter\n",
            "1. n gram model\n",
            "2. word 2 vec\n",
            "3. ner\n",
            "4. dependency parsing\n",
            "5. grammar parsing\n",
            "5\n",
            "(S\n",
            "  (NP (Det The) (N Doctor))\n",
            "  (VP (V killed) (NP (Det his) (N mother)) (T yesterday))) \n",
            "\n",
            "                 S                            \n",
            "      ___________|_____                        \n",
            "     |                 VP                     \n",
            "     |            _____|_________________      \n",
            "     NP          |         NP            |    \n",
            "  ___|____       |      ___|____         |     \n",
            "Det       N      V    Det       N        T    \n",
            " |        |      |     |        |        |     \n",
            "The     Doctor killed his     mother yesterday\n",
            "\n",
            "\n",
            "NOTES -> language model for n gram and word 2 vec is about depressions tweet in twitter\n",
            "1. n gram model\n",
            "2. word 2 vec\n",
            "3. ner\n",
            "4. dependency parsing\n",
            "5. grammar parsing\n"
          ]
        },
        {
          "output_type": "error",
          "ename": "KeyboardInterrupt",
          "evalue": "Interrupted by user",
          "traceback": [
            "\u001b[0;31m---------------------------------------------------------------------------\u001b[0m",
            "\u001b[0;31mKeyboardInterrupt\u001b[0m                         Traceback (most recent call last)",
            "\u001b[0;32m<ipython-input-45-4e39554579a4>\u001b[0m in \u001b[0;36m<cell line: 1>\u001b[0;34m()\u001b[0m\n\u001b[1;32m     10\u001b[0m     \u001b[0mprint\u001b[0m\u001b[0;34m(\u001b[0m\u001b[0;34m\"4. dependency parsing\"\u001b[0m\u001b[0;34m)\u001b[0m\u001b[0;34m\u001b[0m\u001b[0;34m\u001b[0m\u001b[0m\n\u001b[1;32m     11\u001b[0m     \u001b[0mprint\u001b[0m\u001b[0;34m(\u001b[0m\u001b[0;34m\"5. grammar parsing\"\u001b[0m\u001b[0;34m)\u001b[0m\u001b[0;34m\u001b[0m\u001b[0;34m\u001b[0m\u001b[0m\n\u001b[0;32m---> 12\u001b[0;31m     \u001b[0mchoice\u001b[0m \u001b[0;34m=\u001b[0m \u001b[0minput\u001b[0m\u001b[0;34m(\u001b[0m\u001b[0;34m)\u001b[0m\u001b[0;34m\u001b[0m\u001b[0;34m\u001b[0m\u001b[0m\n\u001b[0m\u001b[1;32m     13\u001b[0m \u001b[0;34m\u001b[0m\u001b[0m\n\u001b[1;32m     14\u001b[0m \u001b[0;34m\u001b[0m\u001b[0m\n",
            "\u001b[0;32m/usr/local/lib/python3.10/dist-packages/ipykernel/kernelbase.py\u001b[0m in \u001b[0;36mraw_input\u001b[0;34m(self, prompt)\u001b[0m\n\u001b[1;32m    849\u001b[0m                 \u001b[0;34m\"raw_input was called, but this frontend does not support input requests.\"\u001b[0m\u001b[0;34m\u001b[0m\u001b[0;34m\u001b[0m\u001b[0m\n\u001b[1;32m    850\u001b[0m             )\n\u001b[0;32m--> 851\u001b[0;31m         return self._input_request(str(prompt),\n\u001b[0m\u001b[1;32m    852\u001b[0m             \u001b[0mself\u001b[0m\u001b[0;34m.\u001b[0m\u001b[0m_parent_ident\u001b[0m\u001b[0;34m,\u001b[0m\u001b[0;34m\u001b[0m\u001b[0;34m\u001b[0m\u001b[0m\n\u001b[1;32m    853\u001b[0m             \u001b[0mself\u001b[0m\u001b[0;34m.\u001b[0m\u001b[0m_parent_header\u001b[0m\u001b[0;34m,\u001b[0m\u001b[0;34m\u001b[0m\u001b[0;34m\u001b[0m\u001b[0m\n",
            "\u001b[0;32m/usr/local/lib/python3.10/dist-packages/ipykernel/kernelbase.py\u001b[0m in \u001b[0;36m_input_request\u001b[0;34m(self, prompt, ident, parent, password)\u001b[0m\n\u001b[1;32m    893\u001b[0m             \u001b[0;32mexcept\u001b[0m \u001b[0mKeyboardInterrupt\u001b[0m\u001b[0;34m:\u001b[0m\u001b[0;34m\u001b[0m\u001b[0;34m\u001b[0m\u001b[0m\n\u001b[1;32m    894\u001b[0m                 \u001b[0;31m# re-raise KeyboardInterrupt, to truncate traceback\u001b[0m\u001b[0;34m\u001b[0m\u001b[0;34m\u001b[0m\u001b[0m\n\u001b[0;32m--> 895\u001b[0;31m                 \u001b[0;32mraise\u001b[0m \u001b[0mKeyboardInterrupt\u001b[0m\u001b[0;34m(\u001b[0m\u001b[0;34m\"Interrupted by user\"\u001b[0m\u001b[0;34m)\u001b[0m \u001b[0;32mfrom\u001b[0m \u001b[0;32mNone\u001b[0m\u001b[0;34m\u001b[0m\u001b[0;34m\u001b[0m\u001b[0m\n\u001b[0m\u001b[1;32m    896\u001b[0m             \u001b[0;32mexcept\u001b[0m \u001b[0mException\u001b[0m \u001b[0;32mas\u001b[0m \u001b[0me\u001b[0m\u001b[0;34m:\u001b[0m\u001b[0;34m\u001b[0m\u001b[0;34m\u001b[0m\u001b[0m\n\u001b[1;32m    897\u001b[0m                 \u001b[0mself\u001b[0m\u001b[0;34m.\u001b[0m\u001b[0mlog\u001b[0m\u001b[0;34m.\u001b[0m\u001b[0mwarning\u001b[0m\u001b[0;34m(\u001b[0m\u001b[0;34m\"Invalid Message:\"\u001b[0m\u001b[0;34m,\u001b[0m \u001b[0mexc_info\u001b[0m\u001b[0;34m=\u001b[0m\u001b[0;32mTrue\u001b[0m\u001b[0;34m)\u001b[0m\u001b[0;34m\u001b[0m\u001b[0;34m\u001b[0m\u001b[0m\n",
            "\u001b[0;31mKeyboardInterrupt\u001b[0m: Interrupted by user"
          ]
        }
      ]
    }
  ]
}