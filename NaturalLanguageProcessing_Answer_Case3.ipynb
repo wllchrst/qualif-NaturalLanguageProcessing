{
  "nbformat": 4,
  "nbformat_minor": 0,
  "metadata": {
    "colab": {
      "provenance": [],
      "gpuType": "T4"
    },
    "kernelspec": {
      "name": "python3",
      "display_name": "Python 3"
    },
    "language_info": {
      "name": "python"
    },
    "accelerator": "GPU"
  },
  "cells": [
    {
      "cell_type": "code",
      "execution_count": 1,
      "metadata": {
        "colab": {
          "base_uri": "https://localhost:8080/"
        },
        "id": "A-kdvvdpg4y0",
        "outputId": "e7392126-d3b4-4ea6-b920-0f64a37215f9"
      },
      "outputs": [
        {
          "output_type": "stream",
          "name": "stdout",
          "text": [
            "Requirement already satisfied: nltk in /usr/local/lib/python3.10/dist-packages (3.8.1)\n",
            "Requirement already satisfied: click in /usr/local/lib/python3.10/dist-packages (from nltk) (8.1.7)\n",
            "Requirement already satisfied: joblib in /usr/local/lib/python3.10/dist-packages (from nltk) (1.3.2)\n",
            "Requirement already satisfied: regex>=2021.8.3 in /usr/local/lib/python3.10/dist-packages (from nltk) (2023.12.25)\n",
            "Requirement already satisfied: tqdm in /usr/local/lib/python3.10/dist-packages (from nltk) (4.66.1)\n"
          ]
        }
      ],
      "source": [
        "!pip install nltk\n",
        "import nltk\n",
        "from nltk import CFG\n",
        "from nltk.parse import ChartParser"
      ]
    },
    {
      "cell_type": "code",
      "source": [
        "first = 'The farmer loaded the cart with sand'\n",
        "second = 'The farmer loaded sand into the cart'\n",
        "third = 'The farmer filled the cart with sand'\n",
        "fourth = 'The farmer filled sand into the cart'\n",
        "fifth = 'The farmer dumped the cart with sand'\n",
        "sixth = 'The farmer dumped sand into the cart'"
      ],
      "metadata": {
        "id": "O-rTbUkih_5h"
      },
      "execution_count": 2,
      "outputs": []
    },
    {
      "cell_type": "code",
      "source": [
        "grammar = CFG.fromstring('''\n",
        "    S -> NP VP\n",
        "    NP -> Det N\n",
        "    VP -> V NP PP | V N P NP\n",
        "    N -> 'farmer' | 'cart' | 'sand'\n",
        "    Det -> 'The' | 'the'\n",
        "    V -> 'loaded' | 'filled' | 'dumped'\n",
        "    PP -> P N\n",
        "    P -> 'with' | 'into'\n",
        "''')\n",
        "\n",
        "def grammar_parsing(sentence, grammar) :\n",
        "    words = sentence.split()\n",
        "    parser = ChartParser(grammar)\n",
        "\n",
        "    try :\n",
        "        parses = list(parser.parse(words))\n",
        "        if parses :\n",
        "            for tree in parser.parse(sentence.split()):\n",
        "                print(tree, \"\\n\")\n",
        "                tree.pretty_print()\n",
        "        else :\n",
        "            print(\"no parses found\")\n",
        "    except nltk.parse.api.ParseError as e :\n",
        "        print(\"Error during parsing : \", e)\n",
        "\n",
        "grammar_parsing(first, grammar)\n",
        "grammar_parsing(second, grammar)\n",
        "grammar_parsing(third, grammar)\n",
        "grammar_parsing(fourth, grammar)\n",
        "grammar_parsing(fifth, grammar)\n",
        "grammar_parsing(sixth, grammar)"
      ],
      "metadata": {
        "colab": {
          "base_uri": "https://localhost:8080/"
        },
        "id": "mPHZDlXMiSmV",
        "outputId": "c0ca1f2d-6296-47ac-ec87-946d4ab23a5a"
      },
      "execution_count": 3,
      "outputs": [
        {
          "output_type": "stream",
          "name": "stdout",
          "text": [
            "(S\n",
            "  (NP (Det The) (N farmer))\n",
            "  (VP (V loaded) (NP (Det the) (N cart)) (PP (P with) (N sand)))) \n",
            "\n",
            "                       S                        \n",
            "      _________________|_______                  \n",
            "     |                         VP               \n",
            "     |            _____________|_________        \n",
            "     NP          |         NP            PP     \n",
            "  ___|____       |      ___|___      ____|___    \n",
            "Det       N      V    Det      N    P        N  \n",
            " |        |      |     |       |    |        |   \n",
            "The     farmer loaded the     cart with     sand\n",
            "\n",
            "(S\n",
            "  (NP (Det The) (N farmer))\n",
            "  (VP (V loaded) (N sand) (P into) (NP (Det the) (N cart)))) \n",
            "\n",
            "                       S                    \n",
            "      _________________|____                 \n",
            "     |                      VP              \n",
            "     |            __________|________        \n",
            "     NP          |     |    |        NP     \n",
            "  ___|____       |     |    |     ___|___    \n",
            "Det       N      V     N    P   Det      N  \n",
            " |        |      |     |    |    |       |   \n",
            "The     farmer loaded sand into the     cart\n",
            "\n",
            "(S\n",
            "  (NP (Det The) (N farmer))\n",
            "  (VP (V filled) (NP (Det the) (N cart)) (PP (P with) (N sand)))) \n",
            "\n",
            "                       S                        \n",
            "      _________________|_______                  \n",
            "     |                         VP               \n",
            "     |            _____________|_________        \n",
            "     NP          |         NP            PP     \n",
            "  ___|____       |      ___|___      ____|___    \n",
            "Det       N      V    Det      N    P        N  \n",
            " |        |      |     |       |    |        |   \n",
            "The     farmer filled the     cart with     sand\n",
            "\n",
            "(S\n",
            "  (NP (Det The) (N farmer))\n",
            "  (VP (V filled) (N sand) (P into) (NP (Det the) (N cart)))) \n",
            "\n",
            "                       S                    \n",
            "      _________________|____                 \n",
            "     |                      VP              \n",
            "     |            __________|________        \n",
            "     NP          |     |    |        NP     \n",
            "  ___|____       |     |    |     ___|___    \n",
            "Det       N      V     N    P   Det      N  \n",
            " |        |      |     |    |    |       |   \n",
            "The     farmer filled sand into the     cart\n",
            "\n",
            "(S\n",
            "  (NP (Det The) (N farmer))\n",
            "  (VP (V dumped) (NP (Det the) (N cart)) (PP (P with) (N sand)))) \n",
            "\n",
            "                       S                        \n",
            "      _________________|_______                  \n",
            "     |                         VP               \n",
            "     |            _____________|_________        \n",
            "     NP          |         NP            PP     \n",
            "  ___|____       |      ___|___      ____|___    \n",
            "Det       N      V    Det      N    P        N  \n",
            " |        |      |     |       |    |        |   \n",
            "The     farmer dumped the     cart with     sand\n",
            "\n",
            "(S\n",
            "  (NP (Det The) (N farmer))\n",
            "  (VP (V dumped) (N sand) (P into) (NP (Det the) (N cart)))) \n",
            "\n",
            "                       S                    \n",
            "      _________________|____                 \n",
            "     |                      VP              \n",
            "     |            __________|________        \n",
            "     NP          |     |    |        NP     \n",
            "  ___|____       |     |    |     ___|___    \n",
            "Det       N      V     N    P   Det      N  \n",
            " |        |      |     |    |    |       |   \n",
            "The     farmer dumped sand into the     cart\n",
            "\n"
          ]
        }
      ]
    }
  ]
}